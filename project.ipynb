{
  "cells": [
    {
      "cell_type": "markdown",
      "metadata": {
        "id": "_avVIGTpvioI"
      },
      "source": [
        "# DX 704 Week 3 Project\n",
        "\n",
        "This week's project will give you practice with optimizing choices for bandit algorithms.\n",
        "You will be given access to the bandit problem via a blackbox object, and you will investigate the bandit rewards to pick a suitable algorithm."
      ]
    },
    {
      "cell_type": "markdown",
      "metadata": {
        "id": "ftRkegOQowWA"
      },
      "source": [
        "The full project description, a template notebook and supporting code are available on GitHub: [Project 3 Materials](https://github.com/bu-cds-dx704/dx704-project-03).\n"
      ]
    },
    {
      "cell_type": "markdown",
      "metadata": {
        "id": "-tPHvNSEdR6h"
      },
      "source": [
        "## Example Code\n",
        "\n",
        "You may find it helpful to refer to these GitHub repositories of Jupyter notebooks for example code.\n",
        "\n",
        "* https://github.com/bu-cds-omds/dx601-examples\n",
        "* https://github.com/bu-cds-omds/dx602-examples\n",
        "* https://github.com/bu-cds-omds/dx603-examples\n",
        "* https://github.com/bu-cds-omds/dx704-examples\n",
        "\n",
        "Any calculations demonstrated in code examples or videos may be found in these notebooks, and you are allowed to copy this example code in your homework answers."
      ]
    },
    {
      "cell_type": "markdown",
      "metadata": {
        "id": "b6VKDAEY8JMI"
      },
      "source": [
        "## Part 1: Pick a Bandit Algorithm\n",
        "\n",
        "Experiment with the multi-armed bandit interface using seed 0 to learn about the distribution of rewards and decide what kind of bandit algorithm will be appropriate.\n",
        "A histogram will likely be helpful."
      ]
    },
    {
      "cell_type": "code",
      "execution_count": 59,
      "metadata": {
        "id": "BCggNE7NpiQN"
      },
      "outputs": [],
      "source": [
        "# DO NOT CHANGE\n",
        "\n",
        "import numpy as np\n",
        "import matplotlib.pyplot as plt\n",
        "\n",
        "class BanditProblem(object):\n",
        "    def __init__(self, seed):\n",
        "        self.seed = seed\n",
        "        self.rng = np.random.default_rng(seed)\n",
        "\n",
        "        self.num_arms = 3\n",
        "        self.ns = self.rng.integers(low=1, high=10, size=self.num_arms)\n",
        "        self.ps = self.rng.uniform(low=0.2, high=0.4, size=self.num_arms)\n",
        "\n",
        "    def get_num_arms(self):\n",
        "        return self.num_arms\n",
        "\n",
        "    def get_reward(self, arm):\n",
        "        if arm < 0 or arm >= self.num_arms:\n",
        "            raise ValueError(\"Invalid arm\")\n",
        "\n",
        "        x = self.rng.uniform()\n",
        "        x *= self.rng.binomial(self.ns[arm], self.ps[arm])\n",
        "\n",
        "        return x\n"
      ]
    },
    {
      "cell_type": "code",
      "execution_count": 60,
      "metadata": {
        "id": "X99ZQUyhpgak"
      },
      "outputs": [],
      "source": [
        "bandit0 = BanditProblem(0)"
      ]
    },
    {
      "cell_type": "code",
      "execution_count": 61,
      "metadata": {
        "id": "frDtVjt4qATJ"
      },
      "outputs": [
        {
          "data": {
            "text/plain": [
              "3"
            ]
          },
          "execution_count": 61,
          "metadata": {},
          "output_type": "execute_result"
        }
      ],
      "source": [
        "bandit0.get_num_arms()"
      ]
    },
    {
      "cell_type": "code",
      "execution_count": 62,
      "metadata": {
        "id": "sdM9Ec3HqC6h"
      },
      "outputs": [
        {
          "data": {
            "text/plain": [
              "1.8255111545554434"
            ]
          },
          "execution_count": 62,
          "metadata": {},
          "output_type": "execute_result"
        }
      ],
      "source": [
        "bandit0.get_reward(arm=0)"
      ]
    },
    {
      "cell_type": "code",
      "execution_count": 63,
      "metadata": {
        "id": "iuQ0jCr_plcZ"
      },
      "outputs": [
        {
          "name": "stdout",
          "output_type": "stream",
          "text": [
            "Arm 0:\n",
            "  Mean: 0.8150\n",
            "  Std:  0.7839\n",
            "  Min:  0.0000\n",
            "  Max:  4.0662\n",
            "  Zeros: 156 / 1000\n",
            "\n",
            "Arm 1:\n",
            "  Mean: 0.5722\n",
            "  Std:  0.6336\n",
            "  Min:  0.0000\n",
            "  Max:  4.4076\n",
            "  Zeros: 277 / 1000\n",
            "\n",
            "Arm 2:\n",
            "  Mean: 0.9267\n",
            "  Std:  0.8479\n",
            "  Min:  0.0000\n",
            "  Max:  4.8858\n",
            "  Zeros: 111 / 1000\n",
            "\n"
          ]
        }
      ],
      "source": [
        "# YOUR CHANGES HERE\n",
        "\n",
        "# Collect many samples from each arm\n",
        "n_samples = 1000\n",
        "rewards = {0: [], 1: [], 2: []}\n",
        "\n",
        "for arm in range(3):\n",
        "    for _ in range(n_samples):\n",
        "        rewards[arm].append(bandit0.get_reward(arm))\n",
        "\n",
        "# Display basic statistics\n",
        "for arm in range(3):\n",
        "    arm_rewards = rewards[arm]\n",
        "    print(f\"Arm {arm}:\")\n",
        "    print(f\"  Mean: {np.mean(arm_rewards):.4f}\")\n",
        "    print(f\"  Std:  {np.std(arm_rewards):.4f}\")\n",
        "    print(f\"  Min:  {np.min(arm_rewards):.4f}\")\n",
        "    print(f\"  Max:  {np.max(arm_rewards):.4f}\")\n",
        "    print(f\"  Zeros: {np.sum(np.array(arm_rewards) == 0)} / {n_samples}\")\n",
        "    print()"
      ]
    },
    {
      "cell_type": "code",
      "execution_count": 64,
      "metadata": {},
      "outputs": [
        {
          "data": {
            "image/png": "[encoded data removed]",
            "text/plain": [
              "<Figure size 1500x400 with 3 Axes>"
            ]
          },
          "metadata": {},
          "output_type": "display_data"
        },
        {
          "name": "stdout",
          "output_type": "stream",
          "text": [
            "Arm 0 rewards in [0,1]: False\n",
            "Arm 1 rewards in [0,1]: False\n",
            "Arm 2 rewards in [0,1]: False\n"
          ]
        }
      ],
      "source": [
        "# Create histograms for each arm\n",
        "fig, axes = plt.subplots(1, 3, figsize=(15, 4))\n",
        "\n",
        "for arm in range(3):\n",
        "    axes[arm].hist(rewards[arm], bins=50, alpha=0.7, density=True)\n",
        "    axes[arm].set_title(f'Arm {arm} Reward Distribution')\n",
        "    axes[arm].set_xlabel('Reward')\n",
        "    axes[arm].set_ylabel('Density')\n",
        "    axes[arm].grid(True, alpha=0.3)\n",
        "\n",
        "plt.tight_layout()\n",
        "plt.show()\n",
        "\n",
        "# Check if rewards are bounded between 0 and 1\n",
        "for arm in range(3):\n",
        "    arm_rewards = np.array(rewards[arm])\n",
        "    in_bounds = np.all((arm_rewards >= 0) & (arm_rewards <= 1))\n",
        "    print(f\"Arm {arm} rewards in [0,1]: {in_bounds}\")"
      ]
    },
    {
      "cell_type": "code",
      "execution_count": 65,
      "metadata": {},
      "outputs": [
        {
          "name": "stdout",
          "output_type": "stream",
          "text": [
            "Arm 0 statistics:\n",
            "  Mean: 0.8150\n",
            "  95th percentile: 2.4307\n",
            "  99th percentile: 2.9762\n",
            "  Fraction > 1: 0.304\n",
            "  Fraction = 0: 0.156\n",
            "\n",
            "Arm 1 statistics:\n",
            "  Mean: 0.5722\n",
            "  95th percentile: 1.8024\n",
            "  99th percentile: 2.7104\n",
            "  Fraction > 1: 0.174\n",
            "  Fraction = 0: 0.277\n",
            "\n",
            "Arm 2 statistics:\n",
            "  Mean: 0.9267\n",
            "  95th percentile: 2.6716\n",
            "  99th percentile: 3.5836\n",
            "  Fraction > 1: 0.354\n",
            "  Fraction = 0: 0.111\n",
            "\n",
            "Ranking by mean reward:\n",
            "1. Arm 2: 0.9267\n",
            "2. Arm 0: 0.8150\n",
            "3. Arm 1: 0.5722\n"
          ]
        }
      ],
      "source": [
        "# Check for potential scaling issues\n",
        "for arm in range(3):\n",
        "    arm_rewards = np.array(rewards[arm])\n",
        "    print(f\"Arm {arm} statistics:\")\n",
        "    print(f\"  Mean: {np.mean(arm_rewards):.4f}\")\n",
        "    print(f\"  95th percentile: {np.percentile(arm_rewards, 95):.4f}\")\n",
        "    print(f\"  99th percentile: {np.percentile(arm_rewards, 99):.4f}\")\n",
        "    print(f\"  Fraction > 1: {np.mean(arm_rewards > 1):.3f}\")\n",
        "    print(f\"  Fraction = 0: {np.mean(arm_rewards == 0):.3f}\")\n",
        "    print()\n",
        "\n",
        "# Check if we can identify the best arm\n",
        "print(\"Ranking by mean reward:\")\n",
        "arm_means = [np.mean(rewards[arm]) for arm in range(3)]\n",
        "ranked_arms = sorted(range(3), key=lambda x: arm_means[x], reverse=True)\n",
        "for i, arm in enumerate(ranked_arms):\n",
        "    print(f\"{i+1}. Arm {arm}: {arm_means[arm]:.4f}\")"
      ]
    },
    {
      "cell_type": "code",
      "execution_count": 66,
      "metadata": {},
      "outputs": [
        {
          "name": "stdout",
          "output_type": "stream",
          "text": [
            "Maximum rewards observed: [np.float64(4.066220476820962), np.float64(4.407634897505849), np.float64(4.885846547724117)]\n",
            "Global maximum reward: 4.8858\n",
            "Rewards <= 2: 92.4%\n",
            "Rewards <= 3: 98.8%\n",
            "Rewards <= 4: 99.9%\n",
            "Rewards <= 5: 100.0%\n"
          ]
        }
      ],
      "source": [
        "# Since rewards are unbounded, UCB1 cannot be used directly\n",
        "# Let's see if we can bound or transform the rewards\n",
        "\n",
        "# Check if rewards have a reasonable upper bound for practical purposes\n",
        "max_rewards = [np.max(rewards[arm]) for arm in range(3)]\n",
        "print(\"Maximum rewards observed:\", max_rewards)\n",
        "\n",
        "# Check the distribution shape to see if Thompson sampling is viable\n",
        "# (Thompson sampling doesn't require bounded rewards)\n",
        "\n",
        "# Consider if we can normalize rewards\n",
        "all_rewards = np.concatenate([rewards[arm] for arm in range(3)])\n",
        "global_max = np.max(all_rewards)\n",
        "print(f\"Global maximum reward: {global_max:.4f}\")\n",
        "\n",
        "# Let's check what percentage of rewards would be preserved if we cap at certain values\n",
        "for cap in [2, 3, 4, 5]:\n",
        "    preserved = np.mean(all_rewards <= cap)\n",
        "    print(f\"Rewards <= {cap}: {preserved:.1%}\")"
      ]
    },
    {
      "cell_type": "code",
      "execution_count": 67,
      "metadata": {},
      "outputs": [
        {
          "name": "stdout",
          "output_type": "stream",
          "text": [
            "After 100 rounds:\n",
            "Arm counts: [27, 29, 44]\n",
            "Normalized averages: ['0.1709', '0.1861', '0.2921']\n"
          ]
        }
      ],
      "source": [
        "# Based on the analysis, I'll implement UCB1 with reward normalization\n",
        "# Since 99.9% of rewards are <= 4, I'll cap and normalize by dividing by 4\n",
        "\n",
        "import math\n",
        "\n",
        "class UCB1_Normalized:\n",
        "    def __init__(self, n_arms, reward_cap=4.0):\n",
        "        self.n_arms = n_arms\n",
        "        self.reward_cap = reward_cap\n",
        "        self.counts = [0] * n_arms\n",
        "        self.totals = [0.0] * n_arms\n",
        "        self.t = 0\n",
        "        \n",
        "    def select_arm(self):\n",
        "        # If any arm hasn't been tried, try it\n",
        "        for arm in range(self.n_arms):\n",
        "            if self.counts[arm] == 0:\n",
        "                return arm\n",
        "        \n",
        "        # Calculate UCB1 values for each arm\n",
        "        ucb_values = []\n",
        "        for arm in range(self.n_arms):\n",
        "            avg_reward = self.totals[arm] / self.counts[arm]\n",
        "            confidence = math.sqrt(2 * math.log(self.t) / self.counts[arm])\n",
        "            ucb_values.append(avg_reward + confidence)\n",
        "        \n",
        "        return ucb_values.index(max(ucb_values))\n",
        "    \n",
        "    def update(self, arm, reward):\n",
        "        # Normalize reward by capping and scaling\n",
        "        normalized_reward = min(reward, self.reward_cap) / self.reward_cap\n",
        "        \n",
        "        self.counts[arm] += 1\n",
        "        self.totals[arm] += normalized_reward\n",
        "        self.t += 1\n",
        "    \n",
        "    def get_averages(self):\n",
        "        return [self.totals[arm] / max(self.counts[arm], 1) for arm in range(self.n_arms)]\n",
        "\n",
        "# Test the algorithm\n",
        "algorithm = UCB1_Normalized(n_arms=3)\n",
        "bandit_test = BanditProblem(0)\n",
        "\n",
        "# Run for 100 rounds to test\n",
        "for round_num in range(100):\n",
        "    arm = algorithm.select_arm()\n",
        "    reward = bandit_test.get_reward(arm)\n",
        "    algorithm.update(arm, reward)\n",
        "\n",
        "print(\"After 100 rounds:\")\n",
        "print(f\"Arm counts: {algorithm.counts}\")\n",
        "print(f\"Normalized averages: {[f'{avg:.4f}' for avg in algorithm.get_averages()]}\")"
      ]
    },
    {
      "cell_type": "markdown",
      "metadata": {},
      "source": [
        "\n",
        "Thompson sampling is rejected because the reward distribution (mixture of zeros and continuous positive values) doesn't fit the Bernoulli assumption required for beta distributions covered in the course. \n",
        "The epsilon-greedy algorithm lacks the theoretical guarantees and automatic exploration-exploitation balance that UCB1 provides.\n"
      ]
    },
    {
      "cell_type": "code",
      "execution_count": 68,
      "metadata": {},
      "outputs": [
        {
          "name": "stdout",
          "output_type": "stream",
          "text": [
            "Algorithm choice written to algorithm-choice.txt\n",
            "\n",
            "Content:\n",
            "I chose the algorithm: UCB1 with reward normalization.\n",
            "The rewards violate UCB1's [0,1] requirement, with maximum observed rewards near 5.0. \n",
            "However, as discussed in the course materials, UCB1 can be applied by normalizing rewards (dividing by a constant c when rewards are in [0,c]). \n",
            "Since 99.9% of rewards fall below 4.0, capping and normalizing by 4.0 preserves nearly all reward information while enabling UCB1's proven regret bounds.\n",
            "UCB1's upper confidence bound mechanism will efficiently identify Arm 2 as optimal (mean 0.93 vs 0.82 and 0.57 for other arms) while maintaining sufficient exploration as demonstrated in course examples.\n"
          ]
        }
      ],
      "source": [
        "# Write the algorithm choice justification using code instead of manual creation\n",
        "algorithm_choice_text = \"\"\"I chose the algorithm: UCB1 with reward normalization.\n",
        "The rewards violate UCB1's [0,1] requirement, with maximum observed rewards near 5.0. \n",
        "However, as discussed in the course materials, UCB1 can be applied by normalizing rewards (dividing by a constant c when rewards are in [0,c]). \n",
        "Since 99.9% of rewards fall below 4.0, capping and normalizing by 4.0 preserves nearly all reward information while enabling UCB1's proven regret bounds.\n",
        "UCB1's upper confidence bound mechanism will efficiently identify Arm 2 as optimal (mean 0.93 vs 0.82 and 0.57 for other arms) while maintaining sufficient exploration as demonstrated in course examples.\"\"\"\n",
        "\n",
        "with open('algorithm-choice.txt', 'w') as f:\n",
        "    f.write(algorithm_choice_text)\n",
        "\n",
        "print(\"Algorithm choice written to algorithm-choice.txt\")\n",
        "print(\"\\nContent:\")\n",
        "print(algorithm_choice_text)"
      ]
    },
    {
      "cell_type": "markdown",
      "metadata": {
        "id": "s4-3KtNXtzlY"
      },
      "source": [
        "Based on your investigation, pick an appropriate bandit algorithm to implement from the algorithms covered this week.\n",
        "Write a file \"algorithm-choice.txt\" that states your choice and gives a few sentences justifying your choice and rejecting the alternatives.\n",
        "Keep your explanation concise; overly verbose responses will be penalized."
      ]
    },
    {
      "cell_type": "markdown",
      "metadata": {
        "id": "lY_xvfK4rN0C"
      },
      "source": [
        "## Part 2: Implement Bandit\n",
        "\n",
        "Based on your decision, implement an appropriate bandit algorithm and pick 1000 actions using seed 2025002."
      ]
    },
    {
      "cell_type": "code",
      "execution_count": 69,
      "metadata": {
        "id": "kufc5pAPrWTT"
      },
      "outputs": [],
      "source": [
        "# YOUR CHANGES HERE\n",
        "\n",
        "class UCB1_Normalized:\n",
        "    def __init__(self, n_arms, reward_cap=4.0):\n",
        "        self.n_arms = n_arms\n",
        "        self.reward_cap = reward_cap\n",
        "        self.counts = [0] * n_arms\n",
        "        self.totals = [0.0] * n_arms\n",
        "        self.t = 0\n",
        "        \n",
        "    def select_arm(self):\n",
        "        # If any arm hasn't been tried, try it\n",
        "        for arm in range(self.n_arms):\n",
        "            if self.counts[arm] == 0:\n",
        "                return arm\n",
        "        \n",
        "        # Calculate UCB1 values for each arm\n",
        "        ucb_values = []\n",
        "        for arm in range(self.n_arms):\n",
        "            avg_reward = self.totals[arm] / self.counts[arm]\n",
        "            confidence = math.sqrt(2 * math.log(self.t) / self.counts[arm])\n",
        "            ucb_values.append(avg_reward + confidence)\n",
        "        \n",
        "        return ucb_values.index(max(ucb_values))\n",
        "    \n",
        "    def update(self, arm, reward):\n",
        "        # Normalize reward by capping and scaling\n",
        "        normalized_reward = min(reward, self.reward_cap) / self.reward_cap\n",
        "        \n",
        "        self.counts[arm] += 1\n",
        "        self.totals[arm] += normalized_reward\n",
        "        self.t += 1"
      ]
    },
    {
      "cell_type": "code",
      "execution_count": 70,
      "metadata": {},
      "outputs": [
        {
          "name": "stdout",
          "output_type": "stream",
          "text": [
            "Completed 1000 actions\n",
            "Final arm counts: [420, 399, 181]\n",
            "Total reward: 494.3640725234027\n",
            "Average reward per round: 0.4943640725234027\n"
          ]
        }
      ],
      "source": [
        "# Initialize bandit problem and algorithm\n",
        "bandit = BanditProblem(2025002)\n",
        "algorithm = UCB1_Normalized(n_arms=3)\n",
        "\n",
        "# Run for 1000 actions and record history\n",
        "history = []\n",
        "total_reward = 0\n",
        "\n",
        "for round_num in range(1000):\n",
        "    arm = algorithm.select_arm()\n",
        "    reward = bandit.get_reward(arm)\n",
        "    algorithm.update(arm, reward)\n",
        "    \n",
        "    history.append((arm, reward))\n",
        "    total_reward += reward\n",
        "\n",
        "print(f\"Completed 1000 actions\")\n",
        "print(f\"Final arm counts: {algorithm.counts}\")\n",
        "print(f\"Total reward: {total_reward}\")\n",
        "print(f\"Average reward per round: {total_reward/1000}\")"
      ]
    },
    {
      "cell_type": "markdown",
      "metadata": {
        "id": "Ho9QihatrZqy"
      },
      "source": [
        "Write a file \"history.tsv\" with columns action and reward in the order that the actions were taken."
      ]
    },
    {
      "cell_type": "code",
      "execution_count": 71,
      "metadata": {
        "id": "OsiU7S1XrX0q"
      },
      "outputs": [
        {
          "name": "stdout",
          "output_type": "stream",
          "text": [
            "History written to history.tsv\n",
            "\n",
            "First 10 rows:\n",
            "Action: 0, Reward: 1.5752073596631015\n",
            "Action: 1, Reward: 0.0\n",
            "Action: 2, Reward: 0.0\n",
            "Action: 0, Reward: 1.80400593080568\n",
            "Action: 1, Reward: 0.4320834323714654\n",
            "Action: 2, Reward: 0.0\n",
            "Action: 0, Reward: 0.0\n",
            "Action: 1, Reward: 0.41087663304602884\n",
            "Action: 0, Reward: 0.7799326730626841\n",
            "Action: 2, Reward: 0.0\n",
            "\n",
            "Summary:\n",
            "Total actions: 1000\n",
            "Arm 0 selected: 420 times\n",
            "Arm 1 selected: 399 times\n",
            "Arm 2 selected: 181 times\n"
          ]
        }
      ],
      "source": [
        "# YOUR CHANGES HERE\n",
        "\n",
        "# Write history to TSV file\n",
        "with open('history.tsv', 'w') as f:\n",
        "    f.write(\"action\\treward\\n\")\n",
        "    for action, reward in history:\n",
        "        f.write(f\"{action}\\t{reward}\\n\")\n",
        "\n",
        "print(\"History written to history.tsv\")\n",
        "\n",
        "# Show first few rows and summary statistics\n",
        "print(\"\\nFirst 10 rows:\")\n",
        "for i in range(10):\n",
        "    action, reward = history[i]\n",
        "    print(f\"Action: {action}, Reward: {reward}\")\n",
        "\n",
        "print(f\"\\nSummary:\")\n",
        "print(f\"Total actions: {len(history)}\")\n",
        "actions_taken = [action for action, reward in history]\n",
        "print(f\"Arm 0 selected: {actions_taken.count(0)} times\")\n",
        "print(f\"Arm 1 selected: {actions_taken.count(1)} times\") \n",
        "print(f\"Arm 2 selected: {actions_taken.count(2)} times\")"
      ]
    },
    {
      "cell_type": "markdown",
      "metadata": {
        "id": "fwm-1x3mrfXu"
      },
      "source": [
        "Submit \"history.tsv\" in Gradescope."
      ]
    },
    {
      "cell_type": "markdown",
      "metadata": {
        "id": "xc0xYgCzrmGj"
      },
      "source": [
        "## Part 3: Action Statistics\n",
        "\n",
        "Based on the data from part 2, estimate the expected reward for each arm and write a file \"actions.tsv\" with the columns action, min_reward, mean_reward, max_reward."
      ]
    },
    {
      "cell_type": "code",
      "execution_count": 72,
      "metadata": {
        "id": "a-uAbY03sFna"
      },
      "outputs": [
        {
          "name": "stdout",
          "output_type": "stream",
          "text": [
            "Action statistics from 1000 rounds:\n",
            "Arm 0: 420 selections\n",
            "  Min:  0.0000\n",
            "  Mean: 0.5710\n",
            "  Max:  2.9889\n",
            "\n",
            "Arm 1: 399 selections\n",
            "  Min:  0.0000\n",
            "  Mean: 0.5524\n",
            "  Max:  3.7615\n",
            "\n",
            "Arm 2: 181 selections\n",
            "  Min:  0.0000\n",
            "  Mean: 0.1884\n",
            "  Max:  0.9869\n",
            "\n"
          ]
        }
      ],
      "source": [
        "# YOUR CHANGES HERE\n",
        "\n",
        "# Calculate statistics for each arm based on the data from part 2\n",
        "arm_stats = {}\n",
        "\n",
        "# Group rewards by action (arm)\n",
        "for arm in range(3):\n",
        "    arm_rewards = [reward for action, reward in history if action == arm]\n",
        "    \n",
        "    if len(arm_rewards) > 0:\n",
        "        arm_stats[arm] = {\n",
        "            'min_reward': min(arm_rewards),\n",
        "            'mean_reward': np.mean(arm_rewards),\n",
        "            'max_reward': max(arm_rewards),\n",
        "            'count': len(arm_rewards)\n",
        "        }\n",
        "    else:\n",
        "        # Handle case where arm was never selected (shouldn't happen with UCB1)\n",
        "        arm_stats[arm] = {\n",
        "            'min_reward': 0.0,\n",
        "            'mean_reward': 0.0,\n",
        "            'max_reward': 0.0,\n",
        "            'count': 0\n",
        "        }\n",
        "\n",
        "# Display the statistics\n",
        "print(\"Action statistics from 1000 rounds:\")\n",
        "for arm in range(3):\n",
        "    stats = arm_stats[arm]\n",
        "    print(f\"Arm {arm}: {stats['count']} selections\")\n",
        "    print(f\"  Min:  {stats['min_reward']:.4f}\")\n",
        "    print(f\"  Mean: {stats['mean_reward']:.4f}\")\n",
        "    print(f\"  Max:  {stats['max_reward']:.4f}\")\n",
        "    print()"
      ]
    },
    {
      "cell_type": "code",
      "execution_count": 73,
      "metadata": {},
      "outputs": [
        {
          "name": "stdout",
          "output_type": "stream",
          "text": [
            "Action statistics written to actions.tsv\n",
            "\n",
            "File contents:\n",
            "action\tmin_reward\tmean_reward\tmax_reward\n",
            "0\t0.000000\t0.571040\t2.988922\n",
            "1\t0.000000\t0.552435\t3.761461\n",
            "2\t0.000000\t0.188430\t0.986928\n",
            "\n"
          ]
        }
      ],
      "source": [
        "# Write action statistics to TSV file\n",
        "with open('actions.tsv', 'w') as f:\n",
        "    f.write(\"action\\tmin_reward\\tmean_reward\\tmax_reward\\n\")\n",
        "    for arm in range(3):\n",
        "        stats = arm_stats[arm]\n",
        "        f.write(f\"{arm}\\t{stats['min_reward']:.6f}\\t{stats['mean_reward']:.6f}\\t{stats['max_reward']:.6f}\\n\")\n",
        "\n",
        "print(\"Action statistics written to actions.tsv\")\n",
        "\n",
        "# Verify the file contents\n",
        "print(\"\\nFile contents:\")\n",
        "with open('actions.tsv', 'r') as f:\n",
        "    print(f.read())"
      ]
    },
    {
      "cell_type": "markdown",
      "metadata": {
        "id": "kk8s1hpEsHWX"
      },
      "source": [
        "Submit \"actions.tsv\" in Gradescope."
      ]
    },
    {
      "cell_type": "markdown",
      "metadata": {
        "id": "asaIrLTtsKEv"
      },
      "source": [
        "## Part 4: Regret Estimates\n",
        "\n",
        "Calculate the expected regret taking 1000 actions with the following strategies.\n",
        "\n",
        "* uniform: Pick an arm uniformly at random.\n",
        "* just-i: Always pick arm $i$. Do this for $i=0$ to $K-1$ where $K$ is the number of arms.\n",
        "* actual: This should match your output in part 2."
      ]
    },
    {
      "cell_type": "code",
      "execution_count": 74,
      "metadata": {
        "id": "LgCSJKDmso5a"
      },
      "outputs": [
        {
          "name": "stdout",
          "output_type": "stream",
          "text": [
            "Data from actions.tsv:\n",
            "   action  min_reward  mean_reward  max_reward\n",
            "0       0         0.0     0.571040    2.988922\n",
            "1       1         0.0     0.552435    3.761461\n",
            "2       2         0.0     0.188430    0.986928\n",
            "\n",
            "True means extracted from file: {0: np.float64(0.57104), 1: np.float64(0.552435), 2: np.float64(0.18843)}\n",
            "Optimal arm: 0 with expected reward: 0.57104\n",
            "\n",
            "Regret calculations:\n",
            "uniform: 133.73833333333334\n",
            "just-0: 0.0\n",
            "just-1: 18.604999999999983\n",
            "just-2: 382.61\n",
            "actual: 76.67592747659722\n"
          ]
        }
      ],
      "source": [
        "# YOUR CHANGES HERE\n",
        "import pandas as pd\n",
        "\n",
        "# Regret = (Best possible reward - Actual reward achieved)\n",
        "\n",
        "# Read the true means from the actions.tsv file we created\n",
        "actions_df = pd.read_csv('actions.tsv', sep='\\t')\n",
        "print(\"Data from actions.tsv:\")\n",
        "print(actions_df)\n",
        "\n",
        "# From our data, we know the true expected rewards for each arm\n",
        "# Create dictionary of true means from the file\n",
        "true_means = {}\n",
        "for _, row in actions_df.iterrows():\n",
        "    true_means[int(row['action'])] = row['mean_reward']\n",
        "\n",
        "print(f\"\\nTrue means extracted from file: {true_means}\")\n",
        "\n",
        "# Find the optimal arm (highest expected reward)\n",
        "optimal_arm = max(true_means.keys(), key=lambda x: true_means[x])\n",
        "optimal_reward = true_means[optimal_arm]\n",
        "print(f\"Optimal arm: {optimal_arm} with expected reward: {optimal_reward}\")\n",
        "\n",
        "# Calculate regret for each strategy over 1000 actions\n",
        "strategies = {}\n",
        "\n",
        "# 1. Pick an arm uniformly at random\n",
        "uniform_expected_reward = sum(true_means.values()) / len(true_means)\n",
        "uniform_regret = 1000 * (optimal_reward - uniform_expected_reward)\n",
        "strategies['uniform'] = uniform_regret\n",
        "\n",
        "# 2. Always pick arm i strategies\n",
        "for i in range(3):\n",
        "    just_i_regret = 1000 * (optimal_reward - true_means[i])\n",
        "    strategies[f'just-{i}'] = just_i_regret\n",
        "\n",
        "# 3. Actual strategy (our UCB1 results)\n",
        "actual_total_reward = sum(reward for _, reward in history)\n",
        "actual_regret = 1000 * optimal_reward - actual_total_reward\n",
        "strategies['actual'] = actual_regret\n",
        "\n",
        "print(\"\\nRegret calculations:\")\n",
        "for strategy, regret in strategies.items():\n",
        "    print(f\"{strategy}: {regret}\")"
      ]
    },
    {
      "cell_type": "markdown",
      "metadata": {
        "id": "ncXs2IqPsqQO"
      },
      "source": [
        "Write your results to a file \"strategies.tsv\" with the columns strategy and regret."
      ]
    },
    {
      "cell_type": "code",
      "execution_count": 75,
      "metadata": {
        "id": "GlYK-oCUtyFm"
      },
      "outputs": [
        {
          "name": "stdout",
          "output_type": "stream",
          "text": [
            "Regret analysis written to strategies.tsv\n",
            "\n",
            "File contents:\n",
            "strategy\tregret\n",
            "uniform\t133.73833333333334\n",
            "just-0\t0.0\n",
            "just-1\t18.604999999999983\n",
            "just-2\t382.61\n",
            "actual\t76.67592747659722\n",
            "\n",
            "Strategy performance ranking (lower regret is better):\n",
            "1. just-0: 0.0\n",
            "2. just-1: 18.604999999999983\n",
            "3. actual: 76.67592747659722\n",
            "4. uniform: 133.73833333333334\n",
            "5. just-2: 382.61\n"
          ]
        }
      ],
      "source": [
        "# YOUR CHANGES HERE\n",
        "\n",
        "with open('strategies.tsv', 'w') as f:\n",
        "    f.write(\"strategy\\tregret\\n\")\n",
        "    for strategy, regret in strategies.items():\n",
        "        f.write(f\"{strategy}\\t{regret}\\n\")\n",
        "\n",
        "print(\"Regret analysis written to strategies.tsv\")\n",
        "\n",
        "# Verify the file contents\n",
        "print(\"\\nFile contents:\")\n",
        "with open('strategies.tsv', 'r') as f:\n",
        "    print(f.read())\n",
        "\n",
        "# Additional analysis\n",
        "print(\"Strategy performance ranking (lower regret is better):\")\n",
        "sorted_strategies = sorted(strategies.items(), key=lambda x: x[1])\n",
        "for i, (strategy, regret) in enumerate(sorted_strategies):\n",
        "    print(f\"{i+1}. {strategy}: {regret}\")"
      ]
    },
    {
      "cell_type": "markdown",
      "metadata": {
        "id": "bNs9BJCvtz2N"
      },
      "source": [
        "Submit \"strategies.tsv\" in Gradescope."
      ]
    },
    {
      "cell_type": "markdown",
      "metadata": {
        "id": "lopxdy3lsysb"
      },
      "source": [
        "## Part 5: Acknowledgments\n",
        "\n",
        "Make a file \"acknowledgments.txt\" documenting any outside sources or help on this project.\n",
        "If you discussed this assignment with anyone, please acknowledge them here.\n",
        "If you used any libraries not mentioned in this module's content, please list them with a brief explanation what you used them for.\n",
        "If you used any generative AI tools, please add links to your transcripts below, and any other information that you feel is necessary to comply with the generative AI policy.\n",
        "If no acknowledgements are appropriate, just write none in the file.\n"
      ]
    },
    {
      "cell_type": "code",
      "execution_count": 76,
      "metadata": {},
      "outputs": [
        {
          "name": "stdout",
          "output_type": "stream",
          "text": [
            "Acknowledgments written to acknowledgments.txt\n",
            "File size: 10873 characters\n",
            "\n",
            "First few lines:\n",
            "ACKNOWLEDGMENTS\n",
            "\n",
            "Course Materials and Resources:\n",
            "- Week 3 course materials on multi-armed bandit algorithms, including UCB1 algorithm explanation and implementation guidance\n",
            "- Course documentation on UCB1 reward normalization technique for unbounded rewards (dividing by constant c when rewards are in [0,c])\n",
            "- Course materials on Thompson sampling with beta distributions and Bernoulli reward assumptions\n",
            "- Course materials on epsilon-greedy algorithm and exploration-exploitation tradeoffs\n",
            "- Example code from materials showing UCB1 implementation patterns and bandit problem class structure\n",
            "- Course content on regret calculation methodology and performance evaluation metrics for bandit algorithms\n",
            "- Bandit Algorithms by Tor Lattimore and Csaba Szepesv´ari https://tor-lattimore.com/downloads/book/book.pdf\n"
          ]
        }
      ],
      "source": [
        "acknowledgments_text = \"\"\"ACKNOWLEDGMENTS\n",
        "\n",
        "Course Materials and Resources:\n",
        "- Week 3 course materials on multi-armed bandit algorithms, including UCB1 algorithm explanation and implementation guidance\n",
        "- Course documentation on UCB1 reward normalization technique for unbounded rewards (dividing by constant c when rewards are in [0,c])\n",
        "- Course materials on Thompson sampling with beta distributions and Bernoulli reward assumptions\n",
        "- Course materials on epsilon-greedy algorithm and exploration-exploitation tradeoffs\n",
        "- Example code from materials showing UCB1 implementation patterns and bandit problem class structure\n",
        "- Course content on regret calculation methodology and performance evaluation metrics for bandit algorithms\n",
        "- Bandit Algorithms by Tor Lattimore and Csaba Szepesv´ari https://tor-lattimore.com/downloads/book/book.pdf\n",
        "- Reinforcement Learning Guide: Solving the Multi-Armed Bandit Problem from Scratch in Python by Ankit Choudhary https://www.analyticsvidhya.com/blog/2018/09/reinforcement-multi-armed-bandit-scratch-python/\n",
        "- The Multi-Armed Bandit Problem - An exploration of epsilon greedy and UCB1 By: Michelle Yun, Deric Pang, Ayaz Latif https://cse442-17f.github.io/LinUCB/\n",
        "\n",
        "Libraries Used:\n",
        "- numpy: Random number generation, statistical calculations, and array operations for reward analysis\n",
        "- matplotlib.pyplot: Data visualization for reward distribution histograms and algorithm analysis\n",
        "- pandas: Reading and writing TSV files, data manipulation for actions.tsv processing\n",
        "- math: Mathematical functions for UCB1 confidence bound calculations (sqrt, log functions)\n",
        "\n",
        "Python Standard Library:\n",
        "- Built-in functions (min, max, sum) for statistical calculations\n",
        "- File I/O operations for writing TSV and TXT output files\n",
        "\n",
        "Generative AI Assistance:\n",
        "- AI helped with TSV file formatting:\n",
        "\n",
        "prompt: can you give me an exmaple of how to write to a tsv file in python\n",
        "response: Here's a simple example of writing to a TSV (Tab-Separated Values) file in Python:\n",
        "Using the csv module (recommended):\n",
        "pythonimport csv\n",
        "\n",
        "# Sample data\n",
        "data = [\n",
        "    ['Name', 'Age', 'City'],\n",
        "    ['Alice', '25', 'New York'],\n",
        "    ['Bob', '30', 'San Francisco'],\n",
        "    ['Charlie', '35', 'Chicago']\n",
        "]\n",
        "\n",
        "# Write to TSV file\n",
        "with open('output.tsv', 'w', newline='', encoding='utf-8') as file:\n",
        "    writer = csv.writer(file, delimiter='\\t')\n",
        "    writer.writerows(data)\n",
        "Alternative method using basic file operations:\n",
        "python# Sample data as list of dictionaries\n",
        "people = [\n",
        "    {'Name': 'Alice', 'Age': 25, 'City': 'New York'},\n",
        "    {'Name': 'Bob', 'Age': 30, 'City': 'San Francisco'},\n",
        "    {'Name': 'Charlie', 'Age': 35, 'City': 'Chicago'}\n",
        "]\n",
        "\n",
        "with open('output.tsv', 'w', encoding='utf-8') as file:\n",
        "    # Write header\n",
        "    headers = list(people[0].keys())\n",
        "    file.write('\\t'.join(headers) + '\\n')\n",
        "    \n",
        "    # Write data rows\n",
        "    for person in people:\n",
        "        row = [str(person[key]) for key in headers]\n",
        "        file.write('\\t'.join(row) + '\\n')\n",
        "For pandas DataFrames:\n",
        "pythonimport pandas as pd\n",
        "\n",
        "# Create a DataFrame\n",
        "df = pd.DataFrame({\n",
        "    'Name': ['Alice', 'Bob', 'Charlie'],\n",
        "    'Age': [25, 30, 35],\n",
        "    'City': ['New York', 'San Francisco', 'Chicago']\n",
        "})\n",
        "\n",
        "# Write to TSV\n",
        "df.to_csv('output.tsv', sep='\\t', index=False)\n",
        "The csv module approach is generally preferred because it handles edge cases like data containing tabs or newlines properly by escaping them.\n",
        "\n",
        "prompt: can you give me an example of how to read a tsv file using pandas in python\n",
        "response: Here's how to read a TSV file using pandas in Python:\n",
        "Basic example:\n",
        "pythonimport pandas as pd\n",
        "\n",
        "# Read TSV file\n",
        "df = pd.read_csv('data.tsv', sep='\\t')\n",
        "\n",
        "# Display the data\n",
        "print(df)\n",
        "print(df.head())  # Show first 5 rows\n",
        "With common options:\n",
        "pythonimport pandas as pd\n",
        "\n",
        "# Read TSV with additional options\n",
        "df = pd.read_csv(\n",
        "    'data.tsv',\n",
        "    sep='\\t',                    # Tab separator\n",
        "    encoding='utf-8',            # Specify encoding\n",
        "    header=0,                    # First row contains column names\n",
        "    index_col=None,              # Don't use any column as index\n",
        "    na_values=['', 'NULL', 'N/A'] # Values to treat as NaN\n",
        ")\n",
        "\n",
        "print(df.info())  # Show data types and info\n",
        "print(df.head())\n",
        "Handling files without headers:\n",
        "pythonimport pandas as pd\n",
        "\n",
        "# If TSV file has no header row\n",
        "df = pd.read_csv(\n",
        "    'data.tsv',\n",
        "    sep='\\t',\n",
        "    header=None,  # No header row\n",
        "    names=['Name', 'Age', 'City']  # Specify column names\n",
        ")\n",
        "\n",
        "print(df)\n",
        "With data type specification:\n",
        "pythonimport pandas as pd\n",
        "\n",
        "# Specify data types for better performance and accuracy\n",
        "df = pd.read_csv(\n",
        "    'data.tsv',\n",
        "    sep='\\t',\n",
        "    dtype={\n",
        "        'Name': 'string',\n",
        "        'Age': 'int64',\n",
        "        'City': 'string'\n",
        "    }\n",
        ")\n",
        "\n",
        "print(df.dtypes)  # Check data types\n",
        "print(df)\n",
        "Handling large files (reading in chunks):\n",
        "pythonimport pandas as pd\n",
        "\n",
        "# For very large files, read in chunks\n",
        "chunk_size = 1000\n",
        "for chunk in pd.read_csv('large_data.tsv', sep='\\t', chunksize=chunk_size):\n",
        "    # Process each chunk\n",
        "    print(f\"Processing chunk with {len(chunk)} rows\")\n",
        "    # Your processing logic here\n",
        "The sep='\\t' parameter is the key difference from reading CSV files - it tells pandas to use tabs as the delimiter instead of commas.\n",
        "\n",
        "- AI was also used in understanding a generic example of how UCB1 is implemented in python\n",
        "prompt: can you give me a general example of how UCB1 is typically implemented for multi-armed bandit problems?\n",
        "response: \n",
        "Here's a typical implementation of the UCB1 algorithm for multi-armed bandit problems in Python:\n",
        "\n",
        "import numpy as np\n",
        "import matplotlib.pyplot as plt\n",
        "\n",
        "class UCB1Bandit:\n",
        "    def __init__(self, n_arms):\n",
        "        \\\"\\\"\\\"\n",
        "        Initialize UCB1 bandit algorithm\n",
        "        \n",
        "        Args:\n",
        "            n_arms: Number of arms (actions) available\n",
        "        \\\"\\\"\\\"\n",
        "        self.n_arms = n_arms\n",
        "        self.counts = np.zeros(n_arms)  # Number of times each arm was pulled\n",
        "        self.values = np.zeros(n_arms)  # Average reward for each arm\n",
        "        self.total_count = 0\n",
        "        \n",
        "    def select_arm(self):\n",
        "        \\\"\\\"\\\"\n",
        "        Select an arm using UCB1 algorithm\n",
        "        \n",
        "        Returns:\n",
        "            Selected arm index\n",
        "        \\\"\\\"\\\"\n",
        "        # If any arm hasn't been tried, select it first\n",
        "        for arm in range(self.n_arms):\n",
        "            if self.counts[arm] == 0:\n",
        "                return arm\n",
        "        \n",
        "        # Calculate UCB1 values for all arms\n",
        "        ucb_values = np.zeros(self.n_arms)\n",
        "        for arm in range(self.n_arms):\n",
        "            # UCB1 formula: average_reward + sqrt(2 * ln(total_pulls) / arm_pulls)\n",
        "            confidence_interval = np.sqrt(2 * np.log(self.total_count) / self.counts[arm])\n",
        "            ucb_values[arm] = self.values[arm] + confidence_interval\n",
        "        \n",
        "        # Select arm with highest UCB1 value\n",
        "        return np.argmax(ucb_values)\n",
        "    \n",
        "    def update(self, chosen_arm, reward):\n",
        "        \\\"\\\"\\\"\n",
        "        Update the bandit's knowledge after receiving a reward\n",
        "        \n",
        "        Args:\n",
        "            chosen_arm: Index of the arm that was pulled\n",
        "            reward: Reward received from pulling the arm\n",
        "        \\\"\\\"\\\"\n",
        "        self.counts[chosen_arm] += 1\n",
        "        self.total_count += 1\n",
        "        \n",
        "        # Update running average: new_avg = old_avg + (new_value - old_avg) / count\n",
        "        n = self.counts[chosen_arm]\n",
        "        self.values[chosen_arm] = ((n - 1) / n) * self.values[chosen_arm] + (1 / n) * reward\n",
        "    \n",
        "    def get_arm_info(self):\n",
        "        \\\"\\\"\\\"Return current arm statistics\\\"\\\"\\\"\n",
        "        return {\n",
        "            'counts': self.counts.copy(),\n",
        "            'values': self.values.copy(),\n",
        "            'total_count': self.total_count\n",
        "        }\n",
        "\n",
        "# Example usage with simulation\n",
        "def simulate_bandit_problem():\n",
        "    \\\"\\\"\\\"Simulate a multi-armed bandit problem\\\"\\\"\\\"\n",
        "    \n",
        "    # True reward probabilities for each arm (unknown to the algorithm)\n",
        "    true_rewards = [0.1, 0.3, 0.7, 0.2, 0.5]  # Arm 2 is best\n",
        "    n_arms = len(true_rewards)\n",
        "    n_rounds = 1000\n",
        "    \n",
        "    # Initialize UCB1 bandit\n",
        "    bandit = UCB1Bandit(n_arms)\n",
        "    \n",
        "    # Track results\n",
        "    chosen_arms = []\n",
        "    rewards_received = []\n",
        "    cumulative_rewards = []\n",
        "    cumulative_reward = 0\n",
        "    \n",
        "    # Run simulation\n",
        "    for round in range(n_rounds):\n",
        "        # Select arm using UCB1\n",
        "        chosen_arm = bandit.select_arm()\n",
        "        \n",
        "        # Simulate reward (Bernoulli trial with true probability)\n",
        "        reward = np.random.random() < true_rewards[chosen_arm]\n",
        "        \n",
        "        # Update bandit's knowledge\n",
        "        bandit.update(chosen_arm, reward)\n",
        "        \n",
        "        # Track results\n",
        "        chosen_arms.append(chosen_arm)\n",
        "        rewards_received.append(reward)\n",
        "        cumulative_reward += reward\n",
        "        cumulative_rewards.append(cumulative_reward)\n",
        "    \n",
        "    return {\n",
        "        'bandit': bandit,\n",
        "        'chosen_arms': chosen_arms,\n",
        "        'rewards': rewards_received,\n",
        "        'cumulative_rewards': cumulative_rewards,\n",
        "        'true_rewards': true_rewards\n",
        "    }\n",
        "\n",
        "# Run simulation\n",
        "if __name__ == \"__main__\":\n",
        "    results = simulate_bandit_problem()\n",
        "    bandit = results['bandit']\n",
        "    \n",
        "    print(\"UCB1 Multi-Armed Bandit Results\")\n",
        "    print(\"=\" * 40)\n",
        "    print(f\"Total rounds: {bandit.total_count}\")\n",
        "    print(f\"True reward rates: {results['true_rewards']}\")\n",
        "    print(f\"Estimated reward rates: {bandit.values}\")\n",
        "    print(f\"Arm selection counts: {bandit.counts}\")\n",
        "    print(f\"Total reward: {results['cumulative_rewards'][-1]}\")\n",
        "    \n",
        "    # Calculate regret (difference from optimal strategy)\n",
        "    optimal_reward = bandit.total_count * max(results['true_rewards'])\n",
        "    actual_reward = results['cumulative_rewards'][-1]\n",
        "    regret = optimal_reward - actual_reward\n",
        "    print(f\"Regret: {regret:.1f} (vs always picking best arm)\")\n",
        "    \n",
        "    # Show which arm was selected most often\n",
        "    best_arm_index = np.argmax(bandit.counts)\n",
        "    true_best_arm = np.argmax(results['true_rewards'])\n",
        "    print(f\"Most selected arm: {best_arm_index} (true best: {true_best_arm})\")\n",
        "\n",
        "This implementation demonstrates the key components of UCB1:\n",
        "Core Algorithm Components:\n",
        "\n",
        "Initialization: Track counts and average rewards for each arm\n",
        "Arm Selection: Use the UCB1 formula to balance exploration and exploitation\n",
        "Knowledge Update: Update statistics after each reward\n",
        "\n",
        "UCB1 Formula:\n",
        "The algorithm selects the arm with the highest UCB1 value:\n",
        "UCB1(i) = μᵢ + √(2 ln(t) / nᵢ)\n",
        "Where:\n",
        "\n",
        "μᵢ = average reward for arm i\n",
        "t = total number of pulls\n",
        "nᵢ = number of times arm i was pulled\n",
        "\n",
        "Key Features:\n",
        "Exploration vs Exploitation: The confidence interval (square root term) ensures exploration of less-tried arms, while the average reward term drives exploitation of promising arms.\n",
        "Theoretical Guarantees: UCB1 has proven logarithmic regret bounds, meaning it converges to optimal performance.\n",
        "Automatic Balancing: As arms are pulled more often, their confidence intervals shrink, naturally shifting from exploration to exploitation.\n",
        "The simulation shows how UCB1 gradually learns which arms are best and converges toward selecting the optimal arm most frequently. You can run this code to see how it performs across different scenarios!\n",
        "\n",
        "- All algorithm selection and implementation decisions were guided by course materials and requirements\n",
        "No collaboration with other students occurred on this assignment.\"\"\"\n",
        "\n",
        "# Write the acknowledgments to file\n",
        "with open('acknowledgments.txt', 'w', encoding='utf-8') as f:\n",
        "    f.write(acknowledgments_text)\n",
        "\n",
        "print(\"Acknowledgments written to acknowledgments.txt\")\n",
        "print(f\"File size: {len(acknowledgments_text)} characters\")\n",
        "print(\"\\nFirst few lines:\")\n",
        "print('\\n'.join(acknowledgments_text.split('\\n')[:10]))"
      ]
    },
    {
      "cell_type": "markdown",
      "metadata": {
        "id": "H8-GaDpOw06W"
      },
      "source": [
        "Submit \"acknowledgments.txt\" in Gradescope."
      ]
    },
    {
      "cell_type": "markdown",
      "metadata": {
        "id": "_AR_XyZi8N_Q"
      },
      "source": [
        "## Part 6: Code\n",
        "\n",
        "Please submit a Jupyter notebook that can reproduce all your calculations and recreate the previously submitted files."
      ]
    },
    {
      "cell_type": "markdown",
      "metadata": {
        "id": "oXhGo_008M-b"
      },
      "source": [
        "Submit \"project.ipynb\" in Gradescope."
      ]
    }
  ],
  "metadata": {
    "colab": {
      "toc_visible": false
    },
    "kernelspec": {
      "display_name": "Python 3",
      "name": "python3"
    },
    "language_info": {
      "codemirror_mode": {
        "name": "ipython",
        "version": 3
      },
      "file_extension": ".py",
      "mimetype": "text/x-python",
      "name": "python",
      "nbconvert_exporter": "python",
      "pygments_lexer": "ipython3",
      "version": "3.12.1"
    }
  },
  "nbformat": 4,
  "nbformat_minor": 0
}
